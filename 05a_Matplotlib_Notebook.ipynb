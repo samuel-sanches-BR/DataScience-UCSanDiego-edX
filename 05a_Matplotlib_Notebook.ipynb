{
 "cells": [
  {
   "cell_type": "code",
   "execution_count": null,
   "metadata": {
    "collapsed": true
   },
   "outputs": [],
   "source": [
    "# Data Source: https://www.kaggle.com/worldbank/world-development-indicators\n",
    "# Folder: 'world-development-indicators'"
   ]
  },
  {
   "cell_type": "markdown",
   "metadata": {},
   "source": [
    "<br><p style=\"font-family: Arial; font-size:3.75em;color:purple; font-style:bold\">\n",
    "Matplotlib: Exploring <br> <br> <br>Data Visualization</p><br><br>"
   ]
  },
  {
   "cell_type": "markdown",
   "metadata": {},
   "source": [
    "<br><br><center><h1 style=\"font-size:2em;color:#2467C0\">World Development Indicators</h1></center>\n",
    "<br>\n",
    "<table>\n",
    "<col width=\"550\">\n",
    "<col width=\"450\">\n",
    "<tr>\n",
    "<td><img src=\"https://upload.wikimedia.org/wikipedia/commons/4/46/North_South_divide.svg\" align=\"middle\" style=\"width:550px;height:360px;\"/></td>\n",
    "<td>\n",
    "This week, we will be using an open dataset from <a href=\"https://www.kaggle.com\">Kaggle</a>. It is  <a href=\"https://www.kaggle.com/worldbank/world-development-indicators\">The World Development Indicators</a> dataset obtained from the World Bank containing over a thousand annual indicators of economic development from hundreds of countries around the world.\n",
    "<br>\n",
    "<br>\n",
    "This is a slightly modified version of the original dataset from <a href=\"http://data.worldbank.org/data-catalog/world-development-indicators\">The World Bank</a>\n",
    "<br>\n",
    "<br>\n",
    "List of the <a href=\"https://www.kaggle.com/benhamner/d/worldbank/world-development-indicators/indicators-in-data\">available indicators</a> and a <a href=\"https://www.kaggle.com/benhamner/d/worldbank/world-development-indicators/countries-in-the-wdi-data\">list of the available countries</a>.\n",
    "</td>\n",
    "</tr>\n",
    "</table>"
   ]
  },
  {
   "cell_type": "markdown",
   "metadata": {},
   "source": [
    "# Step 1: Initial exploration of the Dataset"
   ]
  },
  {
   "cell_type": "code",
   "execution_count": 1,
   "metadata": {},
   "outputs": [],
   "source": [
    "import pandas as pd\n",
    "import numpy as np\n",
    "import random\n",
    "import matplotlib.pyplot as plt"
   ]
  },
  {
   "cell_type": "code",
   "execution_count": 2,
   "metadata": {},
   "outputs": [
    {
     "data": {
      "text/plain": [
       "(5656458, 6)"
      ]
     },
     "execution_count": 2,
     "metadata": {},
     "output_type": "execute_result"
    }
   ],
   "source": [
    "data = pd.read_csv('./Indicators.csv')\n",
    "data.shape"
   ]
  },
  {
   "cell_type": "markdown",
   "metadata": {},
   "source": [
    "This is a really large dataset, at least in terms of the number of rows.  But with 6 columns, what does this hold?"
   ]
  },
  {
   "cell_type": "code",
   "execution_count": 3,
   "metadata": {},
   "outputs": [
    {
     "data": {
      "text/html": [
       "<div>\n",
       "<style scoped>\n",
       "    .dataframe tbody tr th:only-of-type {\n",
       "        vertical-align: middle;\n",
       "    }\n",
       "\n",
       "    .dataframe tbody tr th {\n",
       "        vertical-align: top;\n",
       "    }\n",
       "\n",
       "    .dataframe thead th {\n",
       "        text-align: right;\n",
       "    }\n",
       "</style>\n",
       "<table border=\"1\" class=\"dataframe\">\n",
       "  <thead>\n",
       "    <tr style=\"text-align: right;\">\n",
       "      <th></th>\n",
       "      <th>CountryName</th>\n",
       "      <th>CountryCode</th>\n",
       "      <th>IndicatorName</th>\n",
       "      <th>IndicatorCode</th>\n",
       "      <th>Year</th>\n",
       "      <th>Value</th>\n",
       "    </tr>\n",
       "  </thead>\n",
       "  <tbody>\n",
       "    <tr>\n",
       "      <th>0</th>\n",
       "      <td>Arab World</td>\n",
       "      <td>ARB</td>\n",
       "      <td>Adolescent fertility rate (births per 1,000 wo...</td>\n",
       "      <td>SP.ADO.TFRT</td>\n",
       "      <td>1960</td>\n",
       "      <td>1.335609e+02</td>\n",
       "    </tr>\n",
       "    <tr>\n",
       "      <th>1</th>\n",
       "      <td>Arab World</td>\n",
       "      <td>ARB</td>\n",
       "      <td>Age dependency ratio (% of working-age populat...</td>\n",
       "      <td>SP.POP.DPND</td>\n",
       "      <td>1960</td>\n",
       "      <td>8.779760e+01</td>\n",
       "    </tr>\n",
       "    <tr>\n",
       "      <th>2</th>\n",
       "      <td>Arab World</td>\n",
       "      <td>ARB</td>\n",
       "      <td>Age dependency ratio, old (% of working-age po...</td>\n",
       "      <td>SP.POP.DPND.OL</td>\n",
       "      <td>1960</td>\n",
       "      <td>6.634579e+00</td>\n",
       "    </tr>\n",
       "    <tr>\n",
       "      <th>3</th>\n",
       "      <td>Arab World</td>\n",
       "      <td>ARB</td>\n",
       "      <td>Age dependency ratio, young (% of working-age ...</td>\n",
       "      <td>SP.POP.DPND.YG</td>\n",
       "      <td>1960</td>\n",
       "      <td>8.102333e+01</td>\n",
       "    </tr>\n",
       "    <tr>\n",
       "      <th>4</th>\n",
       "      <td>Arab World</td>\n",
       "      <td>ARB</td>\n",
       "      <td>Arms exports (SIPRI trend indicator values)</td>\n",
       "      <td>MS.MIL.XPRT.KD</td>\n",
       "      <td>1960</td>\n",
       "      <td>3.000000e+06</td>\n",
       "    </tr>\n",
       "    <tr>\n",
       "      <th>5</th>\n",
       "      <td>Arab World</td>\n",
       "      <td>ARB</td>\n",
       "      <td>Arms imports (SIPRI trend indicator values)</td>\n",
       "      <td>MS.MIL.MPRT.KD</td>\n",
       "      <td>1960</td>\n",
       "      <td>5.380000e+08</td>\n",
       "    </tr>\n",
       "    <tr>\n",
       "      <th>6</th>\n",
       "      <td>Arab World</td>\n",
       "      <td>ARB</td>\n",
       "      <td>Birth rate, crude (per 1,000 people)</td>\n",
       "      <td>SP.DYN.CBRT.IN</td>\n",
       "      <td>1960</td>\n",
       "      <td>4.769789e+01</td>\n",
       "    </tr>\n",
       "    <tr>\n",
       "      <th>7</th>\n",
       "      <td>Arab World</td>\n",
       "      <td>ARB</td>\n",
       "      <td>CO2 emissions (kt)</td>\n",
       "      <td>EN.ATM.CO2E.KT</td>\n",
       "      <td>1960</td>\n",
       "      <td>5.956399e+04</td>\n",
       "    </tr>\n",
       "    <tr>\n",
       "      <th>8</th>\n",
       "      <td>Arab World</td>\n",
       "      <td>ARB</td>\n",
       "      <td>CO2 emissions (metric tons per capita)</td>\n",
       "      <td>EN.ATM.CO2E.PC</td>\n",
       "      <td>1960</td>\n",
       "      <td>6.439635e-01</td>\n",
       "    </tr>\n",
       "    <tr>\n",
       "      <th>9</th>\n",
       "      <td>Arab World</td>\n",
       "      <td>ARB</td>\n",
       "      <td>CO2 emissions from gaseous fuel consumption (%...</td>\n",
       "      <td>EN.ATM.CO2E.GF.ZS</td>\n",
       "      <td>1960</td>\n",
       "      <td>5.041292e+00</td>\n",
       "    </tr>\n",
       "  </tbody>\n",
       "</table>\n",
       "</div>"
      ],
      "text/plain": [
       "  CountryName CountryCode                                      IndicatorName  \\\n",
       "0  Arab World         ARB  Adolescent fertility rate (births per 1,000 wo...   \n",
       "1  Arab World         ARB  Age dependency ratio (% of working-age populat...   \n",
       "2  Arab World         ARB  Age dependency ratio, old (% of working-age po...   \n",
       "3  Arab World         ARB  Age dependency ratio, young (% of working-age ...   \n",
       "4  Arab World         ARB        Arms exports (SIPRI trend indicator values)   \n",
       "5  Arab World         ARB        Arms imports (SIPRI trend indicator values)   \n",
       "6  Arab World         ARB               Birth rate, crude (per 1,000 people)   \n",
       "7  Arab World         ARB                                 CO2 emissions (kt)   \n",
       "8  Arab World         ARB             CO2 emissions (metric tons per capita)   \n",
       "9  Arab World         ARB  CO2 emissions from gaseous fuel consumption (%...   \n",
       "\n",
       "       IndicatorCode  Year         Value  \n",
       "0        SP.ADO.TFRT  1960  1.335609e+02  \n",
       "1        SP.POP.DPND  1960  8.779760e+01  \n",
       "2     SP.POP.DPND.OL  1960  6.634579e+00  \n",
       "3     SP.POP.DPND.YG  1960  8.102333e+01  \n",
       "4     MS.MIL.XPRT.KD  1960  3.000000e+06  \n",
       "5     MS.MIL.MPRT.KD  1960  5.380000e+08  \n",
       "6     SP.DYN.CBRT.IN  1960  4.769789e+01  \n",
       "7     EN.ATM.CO2E.KT  1960  5.956399e+04  \n",
       "8     EN.ATM.CO2E.PC  1960  6.439635e-01  \n",
       "9  EN.ATM.CO2E.GF.ZS  1960  5.041292e+00  "
      ]
     },
     "execution_count": 3,
     "metadata": {},
     "output_type": "execute_result"
    }
   ],
   "source": [
    "data.head(10)"
   ]
  },
  {
   "cell_type": "markdown",
   "metadata": {},
   "source": [
    "Looks like it has different indicators for different countries with the year and value of the indicator. "
   ]
  },
  {
   "cell_type": "code",
   "execution_count": 70,
   "metadata": {},
   "outputs": [],
   "source": [
    "uniqueIndicator = data['IndicatorName'].unique()\n",
    "uniqueIndpd = pd.DataFrame(uniqueIndicator)"
   ]
  },
  {
   "cell_type": "code",
   "execution_count": 74,
   "metadata": {},
   "outputs": [
    {
     "data": {
      "text/html": [
       "<div>\n",
       "<style scoped>\n",
       "    .dataframe tbody tr th:only-of-type {\n",
       "        vertical-align: middle;\n",
       "    }\n",
       "\n",
       "    .dataframe tbody tr th {\n",
       "        vertical-align: top;\n",
       "    }\n",
       "\n",
       "    .dataframe thead th {\n",
       "        text-align: right;\n",
       "    }\n",
       "</style>\n",
       "<table border=\"1\" class=\"dataframe\">\n",
       "  <thead>\n",
       "    <tr style=\"text-align: right;\">\n",
       "      <th></th>\n",
       "      <th>0</th>\n",
       "    </tr>\n",
       "  </thead>\n",
       "  <tbody>\n",
       "    <tr>\n",
       "      <th>1000</th>\n",
       "      <td>Unemployment, youth female (% of female labor ...</td>\n",
       "    </tr>\n",
       "    <tr>\n",
       "      <th>1001</th>\n",
       "      <td>Unemployment, youth male (% of male labor forc...</td>\n",
       "    </tr>\n",
       "    <tr>\n",
       "      <th>1002</th>\n",
       "      <td>Unemployment, youth total (% of total labor fo...</td>\n",
       "    </tr>\n",
       "    <tr>\n",
       "      <th>1003</th>\n",
       "      <td>Pump price for diesel fuel (US$ per liter)</td>\n",
       "    </tr>\n",
       "    <tr>\n",
       "      <th>1004</th>\n",
       "      <td>Pump price for gasoline (US$ per liter)</td>\n",
       "    </tr>\n",
       "    <tr>\n",
       "      <th>1005</th>\n",
       "      <td>Investment in water and sanitation with privat...</td>\n",
       "    </tr>\n",
       "    <tr>\n",
       "      <th>1006</th>\n",
       "      <td>Depth of the food deficit (kilocalories per pe...</td>\n",
       "    </tr>\n",
       "    <tr>\n",
       "      <th>1007</th>\n",
       "      <td>Merchandise exports to developing economies in...</td>\n",
       "    </tr>\n",
       "    <tr>\n",
       "      <th>1008</th>\n",
       "      <td>Merchandise imports from developing economies ...</td>\n",
       "    </tr>\n",
       "    <tr>\n",
       "      <th>1009</th>\n",
       "      <td>Net bilateral aid flows from DAC donors, Icela...</td>\n",
       "    </tr>\n",
       "    <tr>\n",
       "      <th>1010</th>\n",
       "      <td>Poverty gap at national poverty lines (%)</td>\n",
       "    </tr>\n",
       "    <tr>\n",
       "      <th>1011</th>\n",
       "      <td>Rural poverty gap at national poverty lines (%)</td>\n",
       "    </tr>\n",
       "    <tr>\n",
       "      <th>1012</th>\n",
       "      <td>Urban poverty gap at national poverty lines (%)</td>\n",
       "    </tr>\n",
       "    <tr>\n",
       "      <th>1013</th>\n",
       "      <td>Consumption of iodized salt (% of households)</td>\n",
       "    </tr>\n",
       "    <tr>\n",
       "      <th>1014</th>\n",
       "      <td>Tuberculosis treatment success rate (% of new ...</td>\n",
       "    </tr>\n",
       "    <tr>\n",
       "      <th>1015</th>\n",
       "      <td>Condom use, population ages 15-24, female (% o...</td>\n",
       "    </tr>\n",
       "    <tr>\n",
       "      <th>1016</th>\n",
       "      <td>Condom use, population ages 15-24, male (% of ...</td>\n",
       "    </tr>\n",
       "    <tr>\n",
       "      <th>1017</th>\n",
       "      <td>Children in employment, female (% of female ch...</td>\n",
       "    </tr>\n",
       "    <tr>\n",
       "      <th>1018</th>\n",
       "      <td>Children in employment, male (% of male childr...</td>\n",
       "    </tr>\n",
       "    <tr>\n",
       "      <th>1019</th>\n",
       "      <td>Children in employment, study and work (% of c...</td>\n",
       "    </tr>\n",
       "    <tr>\n",
       "      <th>1020</th>\n",
       "      <td>Children in employment, study and work, female...</td>\n",
       "    </tr>\n",
       "    <tr>\n",
       "      <th>1021</th>\n",
       "      <td>Children in employment, study and work, male (...</td>\n",
       "    </tr>\n",
       "    <tr>\n",
       "      <th>1022</th>\n",
       "      <td>Children in employment, total (% of children a...</td>\n",
       "    </tr>\n",
       "    <tr>\n",
       "      <th>1023</th>\n",
       "      <td>Children in employment, work only (% of childr...</td>\n",
       "    </tr>\n",
       "    <tr>\n",
       "      <th>1024</th>\n",
       "      <td>Children in employment, work only, female (% o...</td>\n",
       "    </tr>\n",
       "    <tr>\n",
       "      <th>1025</th>\n",
       "      <td>Children in employment, work only, male (% of ...</td>\n",
       "    </tr>\n",
       "    <tr>\n",
       "      <th>1026</th>\n",
       "      <td>External resources for health (% of total expe...</td>\n",
       "    </tr>\n",
       "    <tr>\n",
       "      <th>1027</th>\n",
       "      <td>Health expenditure per capita (current US$)</td>\n",
       "    </tr>\n",
       "    <tr>\n",
       "      <th>1028</th>\n",
       "      <td>Health expenditure per capita, PPP (constant 2...</td>\n",
       "    </tr>\n",
       "    <tr>\n",
       "      <th>1029</th>\n",
       "      <td>Health expenditure, private (% of GDP)</td>\n",
       "    </tr>\n",
       "    <tr>\n",
       "      <th>...</th>\n",
       "      <td>...</td>\n",
       "    </tr>\n",
       "    <tr>\n",
       "      <th>1314</th>\n",
       "      <td>Net official flows from UN agencies, UNPBF (cu...</td>\n",
       "    </tr>\n",
       "    <tr>\n",
       "      <th>1315</th>\n",
       "      <td>Firms with female top manager (% of firms)</td>\n",
       "    </tr>\n",
       "    <tr>\n",
       "      <th>1316</th>\n",
       "      <td>Presence of peace keepers (number of troops, p...</td>\n",
       "    </tr>\n",
       "    <tr>\n",
       "      <th>1317</th>\n",
       "      <td>Net bilateral aid flows from DAC donors, Slove...</td>\n",
       "    </tr>\n",
       "    <tr>\n",
       "      <th>1318</th>\n",
       "      <td>Net official flows from UN agencies, UNECE (cu...</td>\n",
       "    </tr>\n",
       "    <tr>\n",
       "      <th>1319</th>\n",
       "      <td>Distance to frontier score (0=lowest performan...</td>\n",
       "    </tr>\n",
       "    <tr>\n",
       "      <th>1320</th>\n",
       "      <td>Time required to get electricity (days)</td>\n",
       "    </tr>\n",
       "    <tr>\n",
       "      <th>1321</th>\n",
       "      <td>Point-of-sale terminals (per 100,000 adults)</td>\n",
       "    </tr>\n",
       "    <tr>\n",
       "      <th>1322</th>\n",
       "      <td>Net official flows from UN agencies, WHO (curr...</td>\n",
       "    </tr>\n",
       "    <tr>\n",
       "      <th>1323</th>\n",
       "      <td>Droughts, floods, extreme temperatures (% of p...</td>\n",
       "    </tr>\n",
       "    <tr>\n",
       "      <th>1324</th>\n",
       "      <td>Annualized average growth rate in per capita r...</td>\n",
       "    </tr>\n",
       "    <tr>\n",
       "      <th>1325</th>\n",
       "      <td>Annualized average growth rate in per capita r...</td>\n",
       "    </tr>\n",
       "    <tr>\n",
       "      <th>1326</th>\n",
       "      <td>Access to non-solid fuel, rural (% of rural po...</td>\n",
       "    </tr>\n",
       "    <tr>\n",
       "      <th>1327</th>\n",
       "      <td>Access to non-solid fuel, urban (% of urban po...</td>\n",
       "    </tr>\n",
       "    <tr>\n",
       "      <th>1328</th>\n",
       "      <td>Disaster risk reduction progress score (1-5 sc...</td>\n",
       "    </tr>\n",
       "    <tr>\n",
       "      <th>1329</th>\n",
       "      <td>Depth of credit information index (0=low to 8=...</td>\n",
       "    </tr>\n",
       "    <tr>\n",
       "      <th>1330</th>\n",
       "      <td>Labor tax and contributions (% of commercial p...</td>\n",
       "    </tr>\n",
       "    <tr>\n",
       "      <th>1331</th>\n",
       "      <td>Profit tax (% of commercial profits)</td>\n",
       "    </tr>\n",
       "    <tr>\n",
       "      <th>1332</th>\n",
       "      <td>Strength of legal rights index (0=weak to 12=s...</td>\n",
       "    </tr>\n",
       "    <tr>\n",
       "      <th>1333</th>\n",
       "      <td>Time to resolve insolvency (years)</td>\n",
       "    </tr>\n",
       "    <tr>\n",
       "      <th>1334</th>\n",
       "      <td>Diabetes prevalence (% of population ages 20 t...</td>\n",
       "    </tr>\n",
       "    <tr>\n",
       "      <th>1335</th>\n",
       "      <td>Ease of doing business index (1=most business-...</td>\n",
       "    </tr>\n",
       "    <tr>\n",
       "      <th>1336</th>\n",
       "      <td>Other taxes payable by businesses (% of commer...</td>\n",
       "    </tr>\n",
       "    <tr>\n",
       "      <th>1337</th>\n",
       "      <td>Present value of external debt (current US$)</td>\n",
       "    </tr>\n",
       "    <tr>\n",
       "      <th>1338</th>\n",
       "      <td>Present value of external debt (% of GNI)</td>\n",
       "    </tr>\n",
       "    <tr>\n",
       "      <th>1339</th>\n",
       "      <td>Present value of external debt (% of exports o...</td>\n",
       "    </tr>\n",
       "    <tr>\n",
       "      <th>1340</th>\n",
       "      <td>Bird species, threatened</td>\n",
       "    </tr>\n",
       "    <tr>\n",
       "      <th>1341</th>\n",
       "      <td>Fish species, threatened</td>\n",
       "    </tr>\n",
       "    <tr>\n",
       "      <th>1342</th>\n",
       "      <td>Mammal species, threatened</td>\n",
       "    </tr>\n",
       "    <tr>\n",
       "      <th>1343</th>\n",
       "      <td>Plant species (higher), threatened</td>\n",
       "    </tr>\n",
       "  </tbody>\n",
       "</table>\n",
       "<p>344 rows × 1 columns</p>\n",
       "</div>"
      ],
      "text/plain": [
       "                                                      0\n",
       "1000  Unemployment, youth female (% of female labor ...\n",
       "1001  Unemployment, youth male (% of male labor forc...\n",
       "1002  Unemployment, youth total (% of total labor fo...\n",
       "1003         Pump price for diesel fuel (US$ per liter)\n",
       "1004            Pump price for gasoline (US$ per liter)\n",
       "1005  Investment in water and sanitation with privat...\n",
       "1006  Depth of the food deficit (kilocalories per pe...\n",
       "1007  Merchandise exports to developing economies in...\n",
       "1008  Merchandise imports from developing economies ...\n",
       "1009  Net bilateral aid flows from DAC donors, Icela...\n",
       "1010          Poverty gap at national poverty lines (%)\n",
       "1011    Rural poverty gap at national poverty lines (%)\n",
       "1012    Urban poverty gap at national poverty lines (%)\n",
       "1013      Consumption of iodized salt (% of households)\n",
       "1014  Tuberculosis treatment success rate (% of new ...\n",
       "1015  Condom use, population ages 15-24, female (% o...\n",
       "1016  Condom use, population ages 15-24, male (% of ...\n",
       "1017  Children in employment, female (% of female ch...\n",
       "1018  Children in employment, male (% of male childr...\n",
       "1019  Children in employment, study and work (% of c...\n",
       "1020  Children in employment, study and work, female...\n",
       "1021  Children in employment, study and work, male (...\n",
       "1022  Children in employment, total (% of children a...\n",
       "1023  Children in employment, work only (% of childr...\n",
       "1024  Children in employment, work only, female (% o...\n",
       "1025  Children in employment, work only, male (% of ...\n",
       "1026  External resources for health (% of total expe...\n",
       "1027        Health expenditure per capita (current US$)\n",
       "1028  Health expenditure per capita, PPP (constant 2...\n",
       "1029             Health expenditure, private (% of GDP)\n",
       "...                                                 ...\n",
       "1314  Net official flows from UN agencies, UNPBF (cu...\n",
       "1315         Firms with female top manager (% of firms)\n",
       "1316  Presence of peace keepers (number of troops, p...\n",
       "1317  Net bilateral aid flows from DAC donors, Slove...\n",
       "1318  Net official flows from UN agencies, UNECE (cu...\n",
       "1319  Distance to frontier score (0=lowest performan...\n",
       "1320            Time required to get electricity (days)\n",
       "1321       Point-of-sale terminals (per 100,000 adults)\n",
       "1322  Net official flows from UN agencies, WHO (curr...\n",
       "1323  Droughts, floods, extreme temperatures (% of p...\n",
       "1324  Annualized average growth rate in per capita r...\n",
       "1325  Annualized average growth rate in per capita r...\n",
       "1326  Access to non-solid fuel, rural (% of rural po...\n",
       "1327  Access to non-solid fuel, urban (% of urban po...\n",
       "1328  Disaster risk reduction progress score (1-5 sc...\n",
       "1329  Depth of credit information index (0=low to 8=...\n",
       "1330  Labor tax and contributions (% of commercial p...\n",
       "1331               Profit tax (% of commercial profits)\n",
       "1332  Strength of legal rights index (0=weak to 12=s...\n",
       "1333                 Time to resolve insolvency (years)\n",
       "1334  Diabetes prevalence (% of population ages 20 t...\n",
       "1335  Ease of doing business index (1=most business-...\n",
       "1336  Other taxes payable by businesses (% of commer...\n",
       "1337       Present value of external debt (current US$)\n",
       "1338          Present value of external debt (% of GNI)\n",
       "1339  Present value of external debt (% of exports o...\n",
       "1340                           Bird species, threatened\n",
       "1341                           Fish species, threatened\n",
       "1342                         Mammal species, threatened\n",
       "1343                 Plant species (higher), threatened\n",
       "\n",
       "[344 rows x 1 columns]"
      ]
     },
     "execution_count": 74,
     "metadata": {},
     "output_type": "execute_result"
    }
   ],
   "source": [
    "uniqueIndpd[1000:]"
   ]
  },
  {
   "cell_type": "markdown",
   "metadata": {},
   "source": [
    "### How many UNIQUE country names are there ?"
   ]
  },
  {
   "cell_type": "code",
   "execution_count": 10,
   "metadata": {},
   "outputs": [
    {
     "data": {
      "text/plain": [
       "247"
      ]
     },
     "execution_count": 10,
     "metadata": {},
     "output_type": "execute_result"
    }
   ],
   "source": [
    "countries = data['CountryName'].unique().tolist()\n",
    "len(countries)"
   ]
  },
  {
   "cell_type": "markdown",
   "metadata": {},
   "source": [
    "### Are there same number of country codes ?"
   ]
  },
  {
   "cell_type": "code",
   "execution_count": 11,
   "metadata": {},
   "outputs": [
    {
     "data": {
      "text/plain": [
       "247"
      ]
     },
     "execution_count": 11,
     "metadata": {},
     "output_type": "execute_result"
    }
   ],
   "source": [
    "# How many unique country codes are there ? (should be the same #)\n",
    "countryCodes = data['CountryCode'].unique().tolist()\n",
    "len(countryCodes)"
   ]
  },
  {
   "cell_type": "markdown",
   "metadata": {},
   "source": [
    "### Are there many indicators or few ?"
   ]
  },
  {
   "cell_type": "code",
   "execution_count": 14,
   "metadata": {},
   "outputs": [
    {
     "data": {
      "text/plain": [
       "1344"
      ]
     },
     "execution_count": 14,
     "metadata": {},
     "output_type": "execute_result"
    }
   ],
   "source": [
    "# How many unique indicators are there ? (should be the same #)\n",
    "indicators = data['IndicatorName'].unique().tolist()\n",
    "len(indicators)"
   ]
  },
  {
   "cell_type": "code",
   "execution_count": 15,
   "metadata": {},
   "outputs": [
    {
     "data": {
      "text/plain": [
       "1344"
      ]
     },
     "execution_count": 15,
     "metadata": {},
     "output_type": "execute_result"
    }
   ],
   "source": [
    "# How many unique indicators cide are there ? (should be the same #)\n",
    "indicatorsCode = data['IndicatorCode'].unique().tolist()\n",
    "len(indicatorsCode)"
   ]
  },
  {
   "cell_type": "markdown",
   "metadata": {},
   "source": [
    "### How many years of data do we have ?"
   ]
  },
  {
   "cell_type": "code",
   "execution_count": 16,
   "metadata": {},
   "outputs": [
    {
     "data": {
      "text/plain": [
       "56"
      ]
     },
     "execution_count": 16,
     "metadata": {},
     "output_type": "execute_result"
    }
   ],
   "source": [
    "# How many years of data do we have ?\n",
    "years = data['Year'].unique().tolist()\n",
    "len(years)"
   ]
  },
  {
   "cell_type": "markdown",
   "metadata": {},
   "source": [
    "### What's the range of years?"
   ]
  },
  {
   "cell_type": "code",
   "execution_count": 17,
   "metadata": {},
   "outputs": [
    {
     "name": "stdout",
     "output_type": "stream",
     "text": [
      "1960  to  2015\n"
     ]
    }
   ],
   "source": [
    "print(min(years),\" to \",max(years))"
   ]
  },
  {
   "cell_type": "markdown",
   "metadata": {},
   "source": [
    "<p style=\"font-family: Arial; font-size:2.5em;color:blue; font-style:bold\">\n",
    "Matplotlib: Basic Plotting, Part 1</p><br>"
   ]
  },
  {
   "cell_type": "markdown",
   "metadata": {},
   "source": [
    "### Lets pick a country and an indicator to explore: CO2 Emissions per capita and the USA"
   ]
  },
  {
   "cell_type": "code",
   "execution_count": 24,
   "metadata": {},
   "outputs": [],
   "source": [
    "# select CO2 emissions for the United States\n",
    "hist_indicator = 'CO2 emissions \\(metric'\n",
    "hist_country = 'BRA'\n",
    "\n",
    "mask1 = data['IndicatorName'].str.contains(hist_indicator) \n",
    "mask2 = data['CountryCode'].str.contains(hist_country)\n",
    "\n",
    "# stage is just those indicators matching the USA for country code and CO2 emissions over time.\n",
    "stage = data[mask1 & mask2]"
   ]
  },
  {
   "cell_type": "code",
   "execution_count": 25,
   "metadata": {},
   "outputs": [
    {
     "data": {
      "text/html": [
       "<div>\n",
       "<style scoped>\n",
       "    .dataframe tbody tr th:only-of-type {\n",
       "        vertical-align: middle;\n",
       "    }\n",
       "\n",
       "    .dataframe tbody tr th {\n",
       "        vertical-align: top;\n",
       "    }\n",
       "\n",
       "    .dataframe thead th {\n",
       "        text-align: right;\n",
       "    }\n",
       "</style>\n",
       "<table border=\"1\" class=\"dataframe\">\n",
       "  <thead>\n",
       "    <tr style=\"text-align: right;\">\n",
       "      <th></th>\n",
       "      <th>CountryName</th>\n",
       "      <th>CountryCode</th>\n",
       "      <th>IndicatorName</th>\n",
       "      <th>IndicatorCode</th>\n",
       "      <th>Year</th>\n",
       "      <th>Value</th>\n",
       "    </tr>\n",
       "  </thead>\n",
       "  <tbody>\n",
       "    <tr>\n",
       "      <th>5642</th>\n",
       "      <td>Brazil</td>\n",
       "      <td>BRA</td>\n",
       "      <td>CO2 emissions (metric tons per capita)</td>\n",
       "      <td>EN.ATM.CO2E.PC</td>\n",
       "      <td>1960</td>\n",
       "      <td>0.647068</td>\n",
       "    </tr>\n",
       "    <tr>\n",
       "      <th>29722</th>\n",
       "      <td>Brazil</td>\n",
       "      <td>BRA</td>\n",
       "      <td>CO2 emissions (metric tons per capita)</td>\n",
       "      <td>EN.ATM.CO2E.PC</td>\n",
       "      <td>1961</td>\n",
       "      <td>0.658625</td>\n",
       "    </tr>\n",
       "    <tr>\n",
       "      <th>56759</th>\n",
       "      <td>Brazil</td>\n",
       "      <td>BRA</td>\n",
       "      <td>CO2 emissions (metric tons per capita)</td>\n",
       "      <td>EN.ATM.CO2E.PC</td>\n",
       "      <td>1962</td>\n",
       "      <td>0.697281</td>\n",
       "    </tr>\n",
       "    <tr>\n",
       "      <th>85147</th>\n",
       "      <td>Brazil</td>\n",
       "      <td>BRA</td>\n",
       "      <td>CO2 emissions (metric tons per capita)</td>\n",
       "      <td>EN.ATM.CO2E.PC</td>\n",
       "      <td>1963</td>\n",
       "      <td>0.700749</td>\n",
       "    </tr>\n",
       "    <tr>\n",
       "      <th>113859</th>\n",
       "      <td>Brazil</td>\n",
       "      <td>BRA</td>\n",
       "      <td>CO2 emissions (metric tons per capita)</td>\n",
       "      <td>EN.ATM.CO2E.PC</td>\n",
       "      <td>1964</td>\n",
       "      <td>0.694001</td>\n",
       "    </tr>\n",
       "  </tbody>\n",
       "</table>\n",
       "</div>"
      ],
      "text/plain": [
       "       CountryName CountryCode                           IndicatorName  \\\n",
       "5642        Brazil         BRA  CO2 emissions (metric tons per capita)   \n",
       "29722       Brazil         BRA  CO2 emissions (metric tons per capita)   \n",
       "56759       Brazil         BRA  CO2 emissions (metric tons per capita)   \n",
       "85147       Brazil         BRA  CO2 emissions (metric tons per capita)   \n",
       "113859      Brazil         BRA  CO2 emissions (metric tons per capita)   \n",
       "\n",
       "         IndicatorCode  Year     Value  \n",
       "5642    EN.ATM.CO2E.PC  1960  0.647068  \n",
       "29722   EN.ATM.CO2E.PC  1961  0.658625  \n",
       "56759   EN.ATM.CO2E.PC  1962  0.697281  \n",
       "85147   EN.ATM.CO2E.PC  1963  0.700749  \n",
       "113859  EN.ATM.CO2E.PC  1964  0.694001  "
      ]
     },
     "execution_count": 25,
     "metadata": {},
     "output_type": "execute_result"
    }
   ],
   "source": [
    "stage.head()"
   ]
  },
  {
   "cell_type": "markdown",
   "metadata": {},
   "source": [
    "### Let's see how emissions have changed over time using MatplotLib"
   ]
  },
  {
   "cell_type": "code",
   "execution_count": 26,
   "metadata": {},
   "outputs": [
    {
     "data": {
      "image/png": "[encoded data removed]",
      "text/plain": [
       "<Figure size 432x288 with 1 Axes>"
      ]
     },
     "metadata": {},
     "output_type": "display_data"
    }
   ],
   "source": [
    "# get the years\n",
    "years = stage['Year'].values\n",
    "# get the values \n",
    "co2 = stage['Value'].values\n",
    "\n",
    "# create\n",
    "plt.bar(years,co2)\n",
    "plt.show()"
   ]
  },
  {
   "cell_type": "markdown",
   "metadata": {},
   "source": [
    "Turns out emissions per capita have dropped a bit over time, but let's make this graphic a bit more appealing before we continue to explore it."
   ]
  },
  {
   "cell_type": "code",
   "execution_count": 30,
   "metadata": {},
   "outputs": [
    {
     "data": {
      "image/png": "[encoded data removed]",
      "text/plain": [
       "<Figure size 432x288 with 1 Axes>"
      ]
     },
     "metadata": {},
     "output_type": "display_data"
    }
   ],
   "source": [
    "# switch to a line plot\n",
    "plt.plot(stage['Year'].values, stage['Value'].values)\n",
    "\n",
    "# Label the axes\n",
    "plt.xlabel('Year')\n",
    "plt.ylabel(stage['IndicatorName'].iloc[0])\n",
    "\n",
    "#label the figure\n",
    "plt.title('CO2 Emissions in Brazil')\n",
    "\n",
    "# to make more honest, start they y axis at 0\n",
    "plt.axis([1959, 2011,0,3])\n",
    "\n",
    "plt.show()"
   ]
  },
  {
   "cell_type": "markdown",
   "metadata": {},
   "source": [
    "### Using Histograms to explore the distribution of values\n",
    "We could also visualize this data as a histogram to better explore the ranges of values in CO2 production per year. "
   ]
  },
  {
   "cell_type": "code",
   "execution_count": 31,
   "metadata": {},
   "outputs": [],
   "source": [
    "# If you want to just include those within one standard deviation fo the mean, you could do the following\n",
    "# lower = stage['Value'].mean() - stage['Value'].std()\n",
    "# upper = stage['Value'].mean() + stage['Value'].std()\n",
    "# hist_data = [x for x in stage[:10000]['Value'] if x>lower and x<upper ]\n",
    "\n",
    "# Otherwise, let's look at all the data\n",
    "hist_data = stage['Value'].values"
   ]
  },
  {
   "cell_type": "code",
   "execution_count": 32,
   "metadata": {},
   "outputs": [
    {
     "name": "stdout",
     "output_type": "stream",
     "text": [
      "52\n"
     ]
    }
   ],
   "source": [
    "print(len(hist_data))"
   ]
  },
  {
   "cell_type": "code",
   "execution_count": 34,
   "metadata": {
    "scrolled": true
   },
   "outputs": [
    {
     "data": {
      "image/png": "[encoded data removed]",
      "text/plain": [
       "<Figure size 432x288 with 1 Axes>"
      ]
     },
     "metadata": {},
     "output_type": "display_data"
    }
   ],
   "source": [
    "# the histogram of the data\n",
    "plt.hist(hist_data, 10, density=False, facecolor='green')\n",
    "\n",
    "plt.xlabel(stage['IndicatorName'].iloc[0])\n",
    "plt.ylabel('# of Years')\n",
    "plt.title('Histogram Example')\n",
    "\n",
    "plt.grid(True)\n",
    "\n",
    "plt.show()"
   ]
  },
  {
   "cell_type": "markdown",
   "metadata": {},
   "source": [
    "So the USA has many years where it produced between 19-20 metric tons per capita with outliers on either side."
   ]
  },
  {
   "cell_type": "markdown",
   "metadata": {},
   "source": [
    "### But how do the USA's numbers relate to those of other countries?"
   ]
  },
  {
   "cell_type": "code",
   "execution_count": 35,
   "metadata": {},
   "outputs": [
    {
     "data": {
      "text/html": [
       "<div>\n",
       "<style scoped>\n",
       "    .dataframe tbody tr th:only-of-type {\n",
       "        vertical-align: middle;\n",
       "    }\n",
       "\n",
       "    .dataframe tbody tr th {\n",
       "        vertical-align: top;\n",
       "    }\n",
       "\n",
       "    .dataframe thead th {\n",
       "        text-align: right;\n",
       "    }\n",
       "</style>\n",
       "<table border=\"1\" class=\"dataframe\">\n",
       "  <thead>\n",
       "    <tr style=\"text-align: right;\">\n",
       "      <th></th>\n",
       "      <th>CountryName</th>\n",
       "      <th>CountryCode</th>\n",
       "      <th>IndicatorName</th>\n",
       "      <th>IndicatorCode</th>\n",
       "      <th>Year</th>\n",
       "      <th>Value</th>\n",
       "    </tr>\n",
       "  </thead>\n",
       "  <tbody>\n",
       "    <tr>\n",
       "      <th>5026275</th>\n",
       "      <td>Arab World</td>\n",
       "      <td>ARB</td>\n",
       "      <td>CO2 emissions (metric tons per capita)</td>\n",
       "      <td>EN.ATM.CO2E.PC</td>\n",
       "      <td>2011</td>\n",
       "      <td>4.724500</td>\n",
       "    </tr>\n",
       "    <tr>\n",
       "      <th>5026788</th>\n",
       "      <td>Caribbean small states</td>\n",
       "      <td>CSS</td>\n",
       "      <td>CO2 emissions (metric tons per capita)</td>\n",
       "      <td>EN.ATM.CO2E.PC</td>\n",
       "      <td>2011</td>\n",
       "      <td>9.692960</td>\n",
       "    </tr>\n",
       "    <tr>\n",
       "      <th>5027295</th>\n",
       "      <td>Central Europe and the Baltics</td>\n",
       "      <td>CEB</td>\n",
       "      <td>CO2 emissions (metric tons per capita)</td>\n",
       "      <td>EN.ATM.CO2E.PC</td>\n",
       "      <td>2011</td>\n",
       "      <td>6.911131</td>\n",
       "    </tr>\n",
       "    <tr>\n",
       "      <th>5027870</th>\n",
       "      <td>East Asia &amp; Pacific (all income levels)</td>\n",
       "      <td>EAS</td>\n",
       "      <td>CO2 emissions (metric tons per capita)</td>\n",
       "      <td>EN.ATM.CO2E.PC</td>\n",
       "      <td>2011</td>\n",
       "      <td>5.859548</td>\n",
       "    </tr>\n",
       "    <tr>\n",
       "      <th>5028456</th>\n",
       "      <td>East Asia &amp; Pacific (developing only)</td>\n",
       "      <td>EAP</td>\n",
       "      <td>CO2 emissions (metric tons per capita)</td>\n",
       "      <td>EN.ATM.CO2E.PC</td>\n",
       "      <td>2011</td>\n",
       "      <td>5.302499</td>\n",
       "    </tr>\n",
       "  </tbody>\n",
       "</table>\n",
       "</div>"
      ],
      "text/plain": [
       "                                     CountryName CountryCode  \\\n",
       "5026275                               Arab World         ARB   \n",
       "5026788                   Caribbean small states         CSS   \n",
       "5027295           Central Europe and the Baltics         CEB   \n",
       "5027870  East Asia & Pacific (all income levels)         EAS   \n",
       "5028456    East Asia & Pacific (developing only)         EAP   \n",
       "\n",
       "                                  IndicatorName   IndicatorCode  Year  \\\n",
       "5026275  CO2 emissions (metric tons per capita)  EN.ATM.CO2E.PC  2011   \n",
       "5026788  CO2 emissions (metric tons per capita)  EN.ATM.CO2E.PC  2011   \n",
       "5027295  CO2 emissions (metric tons per capita)  EN.ATM.CO2E.PC  2011   \n",
       "5027870  CO2 emissions (metric tons per capita)  EN.ATM.CO2E.PC  2011   \n",
       "5028456  CO2 emissions (metric tons per capita)  EN.ATM.CO2E.PC  2011   \n",
       "\n",
       "            Value  \n",
       "5026275  4.724500  \n",
       "5026788  9.692960  \n",
       "5027295  6.911131  \n",
       "5027870  5.859548  \n",
       "5028456  5.302499  "
      ]
     },
     "execution_count": 35,
     "metadata": {},
     "output_type": "execute_result"
    }
   ],
   "source": [
    "# select CO2 emissions for all countries in 2011\n",
    "hist_indicator = 'CO2 emissions \\(metric'\n",
    "hist_year = 2011\n",
    "\n",
    "mask1 = data['IndicatorName'].str.contains(hist_indicator) \n",
    "mask2 = data['Year'].isin([hist_year])\n",
    "\n",
    "# apply our mask\n",
    "co2_2011 = data[mask1 & mask2]\n",
    "co2_2011.head()"
   ]
  },
  {
   "cell_type": "markdown",
   "metadata": {},
   "source": [
    "For how many countries do we have CO2 per capita emissions data in 2011"
   ]
  },
  {
   "cell_type": "code",
   "execution_count": 36,
   "metadata": {},
   "outputs": [
    {
     "name": "stdout",
     "output_type": "stream",
     "text": [
      "232\n"
     ]
    }
   ],
   "source": [
    "print(len(co2_2011))"
   ]
  },
  {
   "cell_type": "code",
   "execution_count": 47,
   "metadata": {},
   "outputs": [
    {
     "data": {
      "image/png": "[encoded data removed]",
      "text/plain": [
       "<Figure size 432x288 with 1 Axes>"
      ]
     },
     "metadata": {},
     "output_type": "display_data"
    }
   ],
   "source": [
    "# let's plot a histogram of the emmissions per capita by country\n",
    "\n",
    "# subplots returns a touple with the figure, axis attributes.\n",
    "fig, ax = plt.subplots()\n",
    "\n",
    "ax.annotate(\"USAa\",\n",
    "            xy=(18, 5), xycoords='data',\n",
    "            xytext=(18, 30), textcoords='data',\n",
    "            arrowprops=dict(arrowstyle=\"->\",\n",
    "                            connectionstyle=\"arc3\"),\n",
    "            )\n",
    "\n",
    "plt.hist(co2_2011['Value'], 10, density=False, facecolor='green')\n",
    "\n",
    "plt.xlabel(stage['IndicatorName'].iloc[0])\n",
    "plt.ylabel('# of Countries')\n",
    "plt.title('Histogram of CO2 Emissions Per Capita')\n",
    "\n",
    "#plt.axis([10, 22, 0, 14])\n",
    "plt.grid(True)\n",
    "\n",
    "plt.show()"
   ]
  },
  {
   "cell_type": "markdown",
   "metadata": {},
   "source": [
    "So the USA, at ~18 CO2 emissions (metric tons per capital) is quite high among all countries.\n",
    "\n",
    "An interesting next step, which we'll save for you, would be to explore how this relates to other industrialized nations and to look at the outliers with those values in the 40s!"
   ]
  },
  {
   "cell_type": "markdown",
   "metadata": {},
   "source": [
    "<p style=\"font-family: Arial; font-size:2.0em;color:blue; font-style:bold\">\n",
    "Matplotlib: Basic Plotting, Part 2</p>"
   ]
  },
  {
   "cell_type": "markdown",
   "metadata": {},
   "source": [
    "### Relationship between GPD and CO2 Emissions in USA"
   ]
  },
  {
   "cell_type": "code",
   "execution_count": 57,
   "metadata": {},
   "outputs": [],
   "source": [
    "# select GDP Per capita emissions for the United States\n",
    "hist_indicator = 'GDP per capita \\(constant 2005'\n",
    "hist_country = 'BRA'\n",
    "\n",
    "mask1 = data['IndicatorName'].str.contains(hist_indicator) \n",
    "mask2 = data['CountryCode'].str.contains(hist_country)\n",
    "\n",
    "# stage is just those indicators matching the USA for country code and CO2 emissions over time.\n",
    "gdp_stage = data[mask1 & mask2]\n",
    "\n",
    "#plot gdp_stage vs stage"
   ]
  },
  {
   "cell_type": "code",
   "execution_count": 58,
   "metadata": {},
   "outputs": [
    {
     "data": {
      "text/html": [
       "<div>\n",
       "<style scoped>\n",
       "    .dataframe tbody tr th:only-of-type {\n",
       "        vertical-align: middle;\n",
       "    }\n",
       "\n",
       "    .dataframe tbody tr th {\n",
       "        vertical-align: top;\n",
       "    }\n",
       "\n",
       "    .dataframe thead th {\n",
       "        text-align: right;\n",
       "    }\n",
       "</style>\n",
       "<table border=\"1\" class=\"dataframe\">\n",
       "  <thead>\n",
       "    <tr style=\"text-align: right;\">\n",
       "      <th></th>\n",
       "      <th>CountryName</th>\n",
       "      <th>CountryCode</th>\n",
       "      <th>IndicatorName</th>\n",
       "      <th>IndicatorCode</th>\n",
       "      <th>Year</th>\n",
       "      <th>Value</th>\n",
       "    </tr>\n",
       "  </thead>\n",
       "  <tbody>\n",
       "    <tr>\n",
       "      <th>5679</th>\n",
       "      <td>Brazil</td>\n",
       "      <td>BRA</td>\n",
       "      <td>GDP per capita (constant 2005 US$)</td>\n",
       "      <td>NY.GDP.PCAP.KD</td>\n",
       "      <td>1960</td>\n",
       "      <td>1712.763497</td>\n",
       "    </tr>\n",
       "    <tr>\n",
       "      <th>29763</th>\n",
       "      <td>Brazil</td>\n",
       "      <td>BRA</td>\n",
       "      <td>GDP per capita (constant 2005 US$)</td>\n",
       "      <td>NY.GDP.PCAP.KD</td>\n",
       "      <td>1961</td>\n",
       "      <td>1832.808061</td>\n",
       "    </tr>\n",
       "  </tbody>\n",
       "</table>\n",
       "</div>"
      ],
      "text/plain": [
       "      CountryName CountryCode                       IndicatorName  \\\n",
       "5679       Brazil         BRA  GDP per capita (constant 2005 US$)   \n",
       "29763      Brazil         BRA  GDP per capita (constant 2005 US$)   \n",
       "\n",
       "        IndicatorCode  Year        Value  \n",
       "5679   NY.GDP.PCAP.KD  1960  1712.763497  \n",
       "29763  NY.GDP.PCAP.KD  1961  1832.808061  "
      ]
     },
     "execution_count": 58,
     "metadata": {},
     "output_type": "execute_result"
    }
   ],
   "source": [
    "gdp_stage.head(2)"
   ]
  },
  {
   "cell_type": "code",
   "execution_count": 59,
   "metadata": {},
   "outputs": [
    {
     "data": {
      "text/html": [
       "<div>\n",
       "<style scoped>\n",
       "    .dataframe tbody tr th:only-of-type {\n",
       "        vertical-align: middle;\n",
       "    }\n",
       "\n",
       "    .dataframe tbody tr th {\n",
       "        vertical-align: top;\n",
       "    }\n",
       "\n",
       "    .dataframe thead th {\n",
       "        text-align: right;\n",
       "    }\n",
       "</style>\n",
       "<table border=\"1\" class=\"dataframe\">\n",
       "  <thead>\n",
       "    <tr style=\"text-align: right;\">\n",
       "      <th></th>\n",
       "      <th>CountryName</th>\n",
       "      <th>CountryCode</th>\n",
       "      <th>IndicatorName</th>\n",
       "      <th>IndicatorCode</th>\n",
       "      <th>Year</th>\n",
       "      <th>Value</th>\n",
       "    </tr>\n",
       "  </thead>\n",
       "  <tbody>\n",
       "    <tr>\n",
       "      <th>5642</th>\n",
       "      <td>Brazil</td>\n",
       "      <td>BRA</td>\n",
       "      <td>CO2 emissions (metric tons per capita)</td>\n",
       "      <td>EN.ATM.CO2E.PC</td>\n",
       "      <td>1960</td>\n",
       "      <td>0.647068</td>\n",
       "    </tr>\n",
       "    <tr>\n",
       "      <th>29722</th>\n",
       "      <td>Brazil</td>\n",
       "      <td>BRA</td>\n",
       "      <td>CO2 emissions (metric tons per capita)</td>\n",
       "      <td>EN.ATM.CO2E.PC</td>\n",
       "      <td>1961</td>\n",
       "      <td>0.658625</td>\n",
       "    </tr>\n",
       "  </tbody>\n",
       "</table>\n",
       "</div>"
      ],
      "text/plain": [
       "      CountryName CountryCode                           IndicatorName  \\\n",
       "5642       Brazil         BRA  CO2 emissions (metric tons per capita)   \n",
       "29722      Brazil         BRA  CO2 emissions (metric tons per capita)   \n",
       "\n",
       "        IndicatorCode  Year     Value  \n",
       "5642   EN.ATM.CO2E.PC  1960  0.647068  \n",
       "29722  EN.ATM.CO2E.PC  1961  0.658625  "
      ]
     },
     "execution_count": 59,
     "metadata": {},
     "output_type": "execute_result"
    }
   ],
   "source": [
    "stage.head(2)"
   ]
  },
  {
   "cell_type": "code",
   "execution_count": 60,
   "metadata": {},
   "outputs": [
    {
     "data": {
      "image/png": "[encoded data removed]",
      "text/plain": [
       "<Figure size 432x288 with 1 Axes>"
      ]
     },
     "metadata": {},
     "output_type": "display_data"
    }
   ],
   "source": [
    "# switch to a line plot\n",
    "plt.plot(gdp_stage['Year'].values, gdp_stage['Value'].values)\n",
    "\n",
    "# Label the axes\n",
    "plt.xlabel('Year')\n",
    "plt.ylabel(gdp_stage['IndicatorName'].iloc[0])\n",
    "\n",
    "#label the figure\n",
    "plt.title('GDP Per Capita Brazil')\n",
    "\n",
    "# to make more honest, start they y axis at 0\n",
    "#plt.axis([1959, 2011,0,25])\n",
    "\n",
    "plt.show()"
   ]
  },
  {
   "cell_type": "markdown",
   "metadata": {},
   "source": [
    "So although we've seen a decline in the CO2 emissions per capita, it does not seem to translate to a decline in GDP per capita"
   ]
  },
  {
   "cell_type": "markdown",
   "metadata": {},
   "source": [
    "### ScatterPlot for comparing GDP against CO2 emissions (per capita)\n",
    "\n",
    "First, we'll need to make sure we're looking at the same time frames"
   ]
  },
  {
   "cell_type": "code",
   "execution_count": 61,
   "metadata": {},
   "outputs": [
    {
     "name": "stdout",
     "output_type": "stream",
     "text": [
      "GDP Min Year =  1960 max:  2014\n",
      "CO2 Min Year =  1960 max:  2011\n"
     ]
    }
   ],
   "source": [
    "print(\"GDP Min Year = \", gdp_stage['Year'].min(), \"max: \", gdp_stage['Year'].max())\n",
    "print(\"CO2 Min Year = \", stage['Year'].min(), \"max: \", stage['Year'].max())"
   ]
  },
  {
   "cell_type": "markdown",
   "metadata": {},
   "source": [
    "We have 3 extra years of GDP data, so let's trim those off so the scatterplot has equal length arrays to compare (this is actually required by scatterplot)"
   ]
  },
  {
   "cell_type": "code",
   "execution_count": 62,
   "metadata": {},
   "outputs": [
    {
     "name": "stdout",
     "output_type": "stream",
     "text": [
      "52\n",
      "52\n"
     ]
    }
   ],
   "source": [
    "gdp_stage_trunc = gdp_stage[gdp_stage['Year'] < 2012]\n",
    "print(len(gdp_stage_trunc))\n",
    "print(len(stage))"
   ]
  },
  {
   "cell_type": "code",
   "execution_count": 63,
   "metadata": {},
   "outputs": [
    {
     "data": {
      "image/png": "[encoded data removed]",
      "text/plain": [
       "<Figure size 432x288 with 1 Axes>"
      ]
     },
     "metadata": {},
     "output_type": "display_data"
    }
   ],
   "source": [
    "%matplotlib inline\n",
    "import matplotlib.pyplot as plt\n",
    "\n",
    "fig, axis = plt.subplots()\n",
    "# Grid lines, Xticks, Xlabel, Ylabel\n",
    "\n",
    "axis.yaxis.grid(True)\n",
    "axis.set_title('CO2 Emissions vs. GDP \\(per capita\\)',fontsize=10)\n",
    "axis.set_xlabel(gdp_stage_trunc['IndicatorName'].iloc[0],fontsize=10)\n",
    "axis.set_ylabel(stage['IndicatorName'].iloc[0],fontsize=10)\n",
    "\n",
    "X = gdp_stage_trunc['Value']\n",
    "Y = stage['Value']\n",
    "\n",
    "axis.scatter(X, Y)\n",
    "plt.show()"
   ]
  },
  {
   "cell_type": "markdown",
   "metadata": {},
   "source": [
    "This doesn't look like a strong relationship.  We can test this by looking at correlation."
   ]
  },
  {
   "cell_type": "code",
   "execution_count": 64,
   "metadata": {},
   "outputs": [
    {
     "data": {
      "text/plain": [
       "array([[1.        , 0.97136744],\n",
       "       [0.97136744, 1.        ]])"
      ]
     },
     "execution_count": 64,
     "metadata": {},
     "output_type": "execute_result"
    }
   ],
   "source": [
    "np.corrcoef(gdp_stage_trunc['Value'],stage['Value'])"
   ]
  },
  {
   "cell_type": "markdown",
   "metadata": {},
   "source": [
    "A correlation of 0.07 is pretty weak, but you'll learn more about correlation in the next course.\n",
    "\n",
    "You could continue to explore this to see if other countries have a closer relationship between CO2 emissions and GDP.  Perhaps it is stronger for developing countries?"
   ]
  },
  {
   "cell_type": "markdown",
   "metadata": {
    "collapsed": true
   },
   "source": [
    "## Want more ? \n",
    "\n",
    "### Matplotlib Examples Library"
   ]
  },
  {
   "cell_type": "markdown",
   "metadata": {},
   "source": [
    "http://matplotlib.org/examples/index.html"
   ]
  },
  {
   "cell_type": "code",
   "execution_count": 65,
   "metadata": {},
   "outputs": [
    {
     "data": {
      "application/javascript": [
       "IPython.OutputArea.auto_scroll_threshold = 9999;"
      ],
      "text/plain": [
       "<IPython.core.display.Javascript object>"
      ]
     },
     "metadata": {},
     "output_type": "display_data"
    }
   ],
   "source": [
    "%%javascript\n",
    "IPython.OutputArea.auto_scroll_threshold = 9999;"
   ]
  },
  {
   "cell_type": "markdown",
   "metadata": {},
   "source": [
    "# Children in employment"
   ]
  },
  {
   "cell_type": "code",
   "execution_count": null,
   "metadata": {},
   "outputs": [],
   "source": [
    "#Children in employment, work only"
   ]
  },
  {
   "cell_type": "code",
   "execution_count": 80,
   "metadata": {},
   "outputs": [
    {
     "data": {
      "text/plain": [
       "511"
      ]
     },
     "execution_count": 80,
     "metadata": {},
     "output_type": "execute_result"
    }
   ],
   "source": [
    "# select Children in employment\n",
    "hist_indicator_chil = 'Children in employment, work only'\n",
    "#hist_country = 'BRA'\n",
    "\n",
    "mask11 = data['IndicatorName'].str.contains(hist_indicator_chil) \n",
    "mask21 = data['CountryCode'].str.contains(hist_country)\n",
    "\n",
    "# stage is just those indicators matching the USA for country code and CO2 emissions over time.\n",
    "#stage2 = data[mask11 & mask21]\n",
    "stage2 = data[mask11]\n",
    "len(stage2)"
   ]
  },
  {
   "cell_type": "code",
   "execution_count": 79,
   "metadata": {},
   "outputs": [
    {
     "data": {
      "text/html": [
       "<div>\n",
       "<style scoped>\n",
       "    .dataframe tbody tr th:only-of-type {\n",
       "        vertical-align: middle;\n",
       "    }\n",
       "\n",
       "    .dataframe tbody tr th {\n",
       "        vertical-align: top;\n",
       "    }\n",
       "\n",
       "    .dataframe thead th {\n",
       "        text-align: right;\n",
       "    }\n",
       "</style>\n",
       "<table border=\"1\" class=\"dataframe\">\n",
       "  <thead>\n",
       "    <tr style=\"text-align: right;\">\n",
       "      <th></th>\n",
       "      <th>CountryName</th>\n",
       "      <th>CountryCode</th>\n",
       "      <th>IndicatorName</th>\n",
       "      <th>IndicatorCode</th>\n",
       "      <th>Year</th>\n",
       "      <th>Value</th>\n",
       "    </tr>\n",
       "  </thead>\n",
       "  <tbody>\n",
       "    <tr>\n",
       "      <th>2416169</th>\n",
       "      <td>Guinea</td>\n",
       "      <td>GIN</td>\n",
       "      <td>Children in employment, work only (% of childr...</td>\n",
       "      <td>SL.TLF.0714.WK.ZS</td>\n",
       "      <td>1994</td>\n",
       "      <td>98.6</td>\n",
       "    </tr>\n",
       "    <tr>\n",
       "      <th>2416170</th>\n",
       "      <td>Guinea</td>\n",
       "      <td>GIN</td>\n",
       "      <td>Children in employment, work only, female (% o...</td>\n",
       "      <td>SL.TLF.0714.WK.FE.ZS</td>\n",
       "      <td>1994</td>\n",
       "      <td>99.0</td>\n",
       "    </tr>\n",
       "    <tr>\n",
       "      <th>2416171</th>\n",
       "      <td>Guinea</td>\n",
       "      <td>GIN</td>\n",
       "      <td>Children in employment, work only, male (% of ...</td>\n",
       "      <td>SL.TLF.0714.WK.MA.ZS</td>\n",
       "      <td>1994</td>\n",
       "      <td>98.3</td>\n",
       "    </tr>\n",
       "    <tr>\n",
       "      <th>2692090</th>\n",
       "      <td>Kazakhstan</td>\n",
       "      <td>KAZ</td>\n",
       "      <td>Children in employment, work only (% of childr...</td>\n",
       "      <td>SL.TLF.0714.WK.ZS</td>\n",
       "      <td>1996</td>\n",
       "      <td>4.4</td>\n",
       "    </tr>\n",
       "    <tr>\n",
       "      <th>2692091</th>\n",
       "      <td>Kazakhstan</td>\n",
       "      <td>KAZ</td>\n",
       "      <td>Children in employment, work only, female (% o...</td>\n",
       "      <td>SL.TLF.0714.WK.FE.ZS</td>\n",
       "      <td>1996</td>\n",
       "      <td>2.1</td>\n",
       "    </tr>\n",
       "  </tbody>\n",
       "</table>\n",
       "</div>"
      ],
      "text/plain": [
       "        CountryName CountryCode  \\\n",
       "2416169      Guinea         GIN   \n",
       "2416170      Guinea         GIN   \n",
       "2416171      Guinea         GIN   \n",
       "2692090  Kazakhstan         KAZ   \n",
       "2692091  Kazakhstan         KAZ   \n",
       "\n",
       "                                             IndicatorName  \\\n",
       "2416169  Children in employment, work only (% of childr...   \n",
       "2416170  Children in employment, work only, female (% o...   \n",
       "2416171  Children in employment, work only, male (% of ...   \n",
       "2692090  Children in employment, work only (% of childr...   \n",
       "2692091  Children in employment, work only, female (% o...   \n",
       "\n",
       "                IndicatorCode  Year  Value  \n",
       "2416169     SL.TLF.0714.WK.ZS  1994   98.6  \n",
       "2416170  SL.TLF.0714.WK.FE.ZS  1994   99.0  \n",
       "2416171  SL.TLF.0714.WK.MA.ZS  1994   98.3  \n",
       "2692090     SL.TLF.0714.WK.ZS  1996    4.4  \n",
       "2692091  SL.TLF.0714.WK.FE.ZS  1996    2.1  "
      ]
     },
     "execution_count": 79,
     "metadata": {},
     "output_type": "execute_result"
    }
   ],
   "source": [
    "stage2.head()"
   ]
  },
  {
   "cell_type": "code",
   "execution_count": 82,
   "metadata": {},
   "outputs": [
    {
     "data": {
      "image/png": "[encoded data removed]",
      "text/plain": [
       "<Figure size 432x288 with 1 Axes>"
      ]
     },
     "metadata": {},
     "output_type": "display_data"
    }
   ],
   "source": [
    "# switch to a line plot\n",
    "plt.plot(stage2['Year'].values, stage2['Value'].values)\n",
    "\n",
    "# Label the axes\n",
    "plt.xlabel('Year')\n",
    "plt.ylabel(stage2['IndicatorName'].iloc[0])\n",
    "\n",
    "#label the figure\n",
    "#plt.title('GDP Per Capita Brazil')\n",
    "\n",
    "# to make more honest, start they y axis at 0\n",
    "#plt.axis([1959, 2011,0,25])\n",
    "\n",
    "plt.show()"
   ]
  },
  {
   "cell_type": "code",
   "execution_count": null,
   "metadata": {},
   "outputs": [],
   "source": []
  }
 ],
 "metadata": {
  "kernelspec": {
   "display_name": "Python 3",
   "language": "python",
   "name": "python3"
  },
  "language_info": {
   "codemirror_mode": {
    "name": "ipython",
    "version": 3
   },
   "file_extension": ".py",
   "mimetype": "text/x-python",
   "name": "python",
   "nbconvert_exporter": "python",
   "pygments_lexer": "ipython3",
   "version": "3.6.5"
  }
 },
 "nbformat": 4,
 "nbformat_minor": 2
}
